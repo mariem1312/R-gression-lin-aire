{
 "cells": [
  {
   "cell_type": "code",
   "execution_count": 5,
   "id": "98e16e2e",
   "metadata": {},
   "outputs": [],
   "source": [
    "import numpy as np\n",
    "from sklearn.datasets import make_regression\n",
    "import matplotlib.pyplot as plt"
   ]
  },
  {
   "cell_type": "code",
   "execution_count": 6,
   "id": "f075cf98",
   "metadata": {},
   "outputs": [
    {
     "data": {
      "text/plain": [
       "<matplotlib.collections.PathCollection at 0x1a6cace9550>"
      ]
     },
     "execution_count": 6,
     "metadata": {},
     "output_type": "execute_result"
    },
    {
     "data": {
      "image/png": "[encoded data removed]",
      "text/plain": [
       "<Figure size 432x288 with 1 Axes>"
      ]
     },
     "metadata": {
      "needs_background": "light"
     },
     "output_type": "display_data"
    }
   ],
   "source": [
    "x, y = make_regression(n_samples=100, n_features=1, noise=10)\n",
    "plt.scatter(x, y) # afficher les résultats. X en abscisse et y en ordonnée"
   ]
  },
  {
   "cell_type": "code",
   "execution_count": 7,
   "id": "9c7a4114",
   "metadata": {},
   "outputs": [
    {
     "name": "stdout",
     "output_type": "stream",
     "text": [
      "(100, 1)\n",
      "(100,)\n"
     ]
    },
    {
     "data": {
      "image/png": "[encoded data removed]",
      "text/plain": [
       "<Figure size 432x288 with 1 Axes>"
      ]
     },
     "metadata": {
      "needs_background": "light"
     },
     "output_type": "display_data"
    }
   ],
   "source": [
    "plt.title(\"regression linéaire\")\n",
    "plt.xlabel(\"x\")\n",
    "plt.ylabel(\"y\")\n",
    "print(x.shape)\n",
    "print(y.shape)\n",
    "# redimensionner y\n",
    "y = y.reshape(y.shape[0], 1)\n"
   ]
  },
  {
   "cell_type": "code",
   "execution_count": 9,
   "id": "52ea402a",
   "metadata": {},
   "outputs": [
    {
     "data": {
      "text/plain": [
       "array([[-0.51440019,  1.        ],\n",
       "       [ 0.31699077,  1.        ],\n",
       "       [-1.39827441,  1.        ],\n",
       "       [-0.65235369,  1.        ],\n",
       "       [ 0.35534057,  1.        ],\n",
       "       [ 0.76887002,  1.        ],\n",
       "       [-1.50989015,  1.        ],\n",
       "       [-0.80842047,  1.        ],\n",
       "       [ 1.40519567,  1.        ],\n",
       "       [ 0.23929102,  1.        ],\n",
       "       [-1.04094978,  1.        ],\n",
       "       [-3.0722459 ,  1.        ],\n",
       "       [ 0.37514825,  1.        ],\n",
       "       [-1.14275201,  1.        ],\n",
       "       [ 0.27849399,  1.        ],\n",
       "       [-0.55606444,  1.        ],\n",
       "       [ 0.97293652,  1.        ],\n",
       "       [-0.13041331,  1.        ],\n",
       "       [ 0.99945473,  1.        ],\n",
       "       [-0.78097031,  1.        ],\n",
       "       [ 0.72031356,  1.        ],\n",
       "       [ 0.57831799,  1.        ],\n",
       "       [-0.46904678,  1.        ],\n",
       "       [ 0.95366408,  1.        ],\n",
       "       [ 1.92993094,  1.        ],\n",
       "       [ 0.71359789,  1.        ],\n",
       "       [-1.2123693 ,  1.        ],\n",
       "       [ 0.12448119,  1.        ],\n",
       "       [ 0.47302812,  1.        ],\n",
       "       [-0.52236387,  1.        ],\n",
       "       [ 1.04790452,  1.        ],\n",
       "       [-0.22737449,  1.        ],\n",
       "       [ 1.61793639,  1.        ],\n",
       "       [ 0.56948228,  1.        ],\n",
       "       [ 0.17285827,  1.        ],\n",
       "       [-0.61595278,  1.        ],\n",
       "       [ 0.14336813,  1.        ],\n",
       "       [-2.67300844,  1.        ],\n",
       "       [-0.2314162 ,  1.        ],\n",
       "       [-2.25681983,  1.        ],\n",
       "       [-1.42000311,  1.        ],\n",
       "       [-1.31242788,  1.        ],\n",
       "       [-0.06585797,  1.        ],\n",
       "       [-0.22191289,  1.        ],\n",
       "       [ 0.7995948 ,  1.        ],\n",
       "       [-1.09869865,  1.        ],\n",
       "       [-0.80099812,  1.        ],\n",
       "       [ 0.52152975,  1.        ],\n",
       "       [-0.35635777,  1.        ],\n",
       "       [ 0.5190006 ,  1.        ],\n",
       "       [-1.37773671,  1.        ],\n",
       "       [ 0.14344285,  1.        ],\n",
       "       [ 0.13303286,  1.        ],\n",
       "       [ 0.84132967,  1.        ],\n",
       "       [ 0.97907517,  1.        ],\n",
       "       [-2.02001891,  1.        ],\n",
       "       [-0.87576476,  1.        ],\n",
       "       [ 0.32847626,  1.        ],\n",
       "       [-1.40064993,  1.        ],\n",
       "       [ 1.25798929,  1.        ],\n",
       "       [-1.1023944 ,  1.        ],\n",
       "       [-0.53825282,  1.        ],\n",
       "       [-0.30758147,  1.        ],\n",
       "       [ 0.07338957,  1.        ],\n",
       "       [-0.3363064 ,  1.        ],\n",
       "       [ 0.69410917,  1.        ],\n",
       "       [-0.4635787 ,  1.        ],\n",
       "       [ 1.02804774,  1.        ],\n",
       "       [ 0.23874352,  1.        ],\n",
       "       [-1.47853858,  1.        ],\n",
       "       [-0.65524478,  1.        ],\n",
       "       [-0.12501932,  1.        ],\n",
       "       [-0.20551108,  1.        ],\n",
       "       [-1.31372458,  1.        ],\n",
       "       [-0.85262618,  1.        ],\n",
       "       [-2.47892362,  1.        ],\n",
       "       [-1.48158563,  1.        ],\n",
       "       [-0.28262614,  1.        ],\n",
       "       [ 2.22429461,  1.        ],\n",
       "       [-0.78924046,  1.        ],\n",
       "       [ 1.26362815,  1.        ],\n",
       "       [-0.33673595,  1.        ],\n",
       "       [ 1.15835569,  1.        ],\n",
       "       [-1.2229075 ,  1.        ],\n",
       "       [ 1.13535407,  1.        ],\n",
       "       [ 0.96327182,  1.        ],\n",
       "       [-1.430724  ,  1.        ],\n",
       "       [-0.38548071,  1.        ],\n",
       "       [ 1.86644849,  1.        ],\n",
       "       [ 0.28406198,  1.        ],\n",
       "       [-0.15428269,  1.        ],\n",
       "       [ 0.11597457,  1.        ],\n",
       "       [ 1.01333931,  1.        ],\n",
       "       [-1.06070943,  1.        ],\n",
       "       [ 0.97786742,  1.        ],\n",
       "       [-1.36001624,  1.        ],\n",
       "       [ 1.6982208 ,  1.        ],\n",
       "       [ 2.18415051,  1.        ],\n",
       "       [-1.58982564,  1.        ],\n",
       "       [ 0.29649999,  1.        ]])"
      ]
     },
     "execution_count": 9,
     "metadata": {},
     "output_type": "execute_result"
    }
   ],
   "source": [
    "#matrice X \n",
    "X = np.hstack((x, np.ones(x.shape)))\n",
    "X"
   ]
  },
  {
   "cell_type": "code",
   "execution_count": 10,
   "id": "3e989434",
   "metadata": {},
   "outputs": [
    {
     "data": {
      "text/plain": [
       "array([[-1.36444172],\n",
       "       [-0.44843132]])"
      ]
     },
     "execution_count": 10,
     "metadata": {},
     "output_type": "execute_result"
    }
   ],
   "source": [
    "theta = np.random.randn(2, 1) #generer des nbr aléatoire\n",
    "theta"
   ]
  },
  {
   "cell_type": "code",
   "execution_count": 11,
   "id": "55a7e407",
   "metadata": {},
   "outputs": [],
   "source": [
    "def model(X, theta):\n",
    "    return X.dot(theta)"
   ]
  },
  {
   "cell_type": "code",
   "execution_count": 12,
   "id": "ddd3a6c5",
   "metadata": {},
   "outputs": [
    {
     "data": {
      "text/plain": [
       "Text(0, 0.5, 'y')"
      ]
     },
     "execution_count": 12,
     "metadata": {},
     "output_type": "execute_result"
    },
    {
     "data": {
      "image/png": "[encoded data removed]",
      "text/plain": [
       "<Figure size 432x288 with 1 Axes>"
      ]
     },
     "metadata": {
      "needs_background": "light"
     },
     "output_type": "display_data"
    }
   ],
   "source": [
    "plt.scatter(x, y)\n",
    "plt.plot(x, model(X, theta), c='r')\n",
    "plt.title(\"regression linéaire\")\n",
    "plt.xlabel(\"x\")\n",
    "plt.ylabel(\"y\")\n"
   ]
  },
  {
   "cell_type": "code",
   "execution_count": 13,
   "id": "aa56420e",
   "metadata": {},
   "outputs": [],
   "source": [
    "def cost_function(X, y, theta):\n",
    "    m = len(y) \n",
    "    return 1/(2*m) * np.sum((model(X, theta) - y)**2)"
   ]
  },
  {
   "cell_type": "code",
   "execution_count": 14,
   "id": "2e22c5b9",
   "metadata": {},
   "outputs": [
    {
     "data": {
      "text/plain": [
       "373.2062296202368"
      ]
     },
     "execution_count": 14,
     "metadata": {},
     "output_type": "execute_result"
    }
   ],
   "source": [
    "cost_function(X, y, theta)"
   ]
  },
  {
   "cell_type": "code",
   "execution_count": 15,
   "id": "43797257",
   "metadata": {},
   "outputs": [],
   "source": [
    "def grad(X, y, theta):\n",
    "    m = len(y)\n",
    "    return 1/m * X.T.dot(model(X, theta) - y)"
   ]
  },
  {
   "cell_type": "code",
   "execution_count": 16,
   "id": "56f072a9",
   "metadata": {},
   "outputs": [],
   "source": [
    "def gradient_descent(X, y, theta, learning_rate, n_iterations):\n",
    "    \n",
    "    cost_history = np.zeros(n_iterations) # création d'un tableau de stockage pour enregistrer l'évolution du Cout du modele\n",
    "    \n",
    "    for i in range(0, n_iterations):\n",
    "        theta = theta - learning_rate * grad(X, y, theta) # mise a jour du parametre theta (formule du gradient descent)\n",
    "        cost_history[i] = cost_function(X, y, theta) # on enregistre la valeur du Cout au tour i dans cost_history[i]\n",
    "        \n",
    "    return theta, cost_history"
   ]
  },
  {
   "cell_type": "code",
   "execution_count": 17,
   "id": "345eb0b0",
   "metadata": {},
   "outputs": [],
   "source": [
    "n_iterations = 1000\n",
    "learning_rate = 0.01\n",
    "\n",
    "\n",
    "theta_final, cost_history = gradient_descent(X, y, theta, learning_rate, n_iterations)"
   ]
  },
  {
   "cell_type": "code",
   "execution_count": 18,
   "id": "79c37323",
   "metadata": {},
   "outputs": [
    {
     "data": {
      "text/plain": [
       "array([[21.44443429],\n",
       "       [-1.02356859]])"
      ]
     },
     "execution_count": 18,
     "metadata": {},
     "output_type": "execute_result"
    }
   ],
   "source": [
    "theta_final # voici les parametres du modele une fois que la machine a été entrainée"
   ]
  },
  {
   "cell_type": "code",
   "execution_count": 19,
   "id": "0ef118f4",
   "metadata": {},
   "outputs": [
    {
     "data": {
      "text/plain": [
       "Text(0, 0.5, 'y')"
      ]
     },
     "execution_count": 19,
     "metadata": {},
     "output_type": "execute_result"
    },
    {
     "data": {
      "image/png": "[encoded data removed]",
      "text/plain": [
       "<Figure size 432x288 with 1 Axes>"
      ]
     },
     "metadata": {
      "needs_background": "light"
     },
     "output_type": "display_data"
    }
   ],
   "source": [
    "# création d'un vecteur prédictions qui contient les prédictions de notre modele final\n",
    "predictions = model(X, theta_final)\n",
    "\n",
    "# Affiche les résultats de prédictions (en rouge) par rapport a notre Dataset (en bleu)\n",
    "plt.scatter(x, y)\n",
    "plt.plot(x, predictions, c='r')\n",
    "plt.title(\"regression linéaire\")\n",
    "plt.xlabel(\"x\")\n",
    "plt.ylabel(\"y\")"
   ]
  },
  {
   "cell_type": "code",
   "execution_count": 20,
   "id": "88eb191b",
   "metadata": {},
   "outputs": [
    {
     "data": {
      "text/plain": [
       "Text(0, 0.5, 'y')"
      ]
     },
     "execution_count": 20,
     "metadata": {},
     "output_type": "execute_result"
    },
    {
     "data": {
      "image/png": "[encoded data removed]",
      "text/plain": [
       "<Figure size 432x288 with 1 Axes>"
      ]
     },
     "metadata": {
      "needs_background": "light"
     },
     "output_type": "display_data"
    }
   ],
   "source": [
    "plt.plot(range(n_iterations), cost_history)\n",
    "plt.title(\"regression linéaire\")\n",
    "plt.xlabel(\"x\")\n",
    "plt.ylabel(\"y\")\n"
   ]
  },
  {
   "cell_type": "code",
   "execution_count": 21,
   "id": "90af9d28",
   "metadata": {},
   "outputs": [],
   "source": [
    "def coef_determination(y, pred):\n",
    "    u = ((y - pred)**2).sum()\n",
    "    v = ((y - y.mean())**2).sum()\n",
    "    return 1 - u/v"
   ]
  },
  {
   "cell_type": "code",
   "execution_count": 22,
   "id": "351d2921",
   "metadata": {},
   "outputs": [
    {
     "data": {
      "text/plain": [
       "0.8048573779318376"
      ]
     },
     "execution_count": 22,
     "metadata": {},
     "output_type": "execute_result"
    }
   ],
   "source": [
    "coef_determination(y, predictions)"
   ]
  },
  {
   "cell_type": "code",
   "execution_count": null,
   "id": "65d83549",
   "metadata": {},
   "outputs": [],
   "source": []
  },
  {
   "cell_type": "code",
   "execution_count": null,
   "id": "39445722",
   "metadata": {},
   "outputs": [],
   "source": []
  },
  {
   "cell_type": "code",
   "execution_count": null,
   "id": "8506c75c",
   "metadata": {},
   "outputs": [],
   "source": []
  }
 ],
 "metadata": {
  "kernelspec": {
   "display_name": "Python 3 (ipykernel)",
   "language": "python",
   "name": "python3"
  },
  "language_info": {
   "codemirror_mode": {
    "name": "ipython",
    "version": 3
   },
   "file_extension": ".py",
   "mimetype": "text/x-python",
   "name": "python",
   "nbconvert_exporter": "python",
   "pygments_lexer": "ipython3",
   "version": "3.9.12"
  }
 },
 "nbformat": 4,
 "nbformat_minor": 5
}
